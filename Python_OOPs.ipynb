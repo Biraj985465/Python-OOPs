{
  "nbformat": 4,
  "nbformat_minor": 0,
  "metadata": {
    "colab": {
      "provenance": []
    },
    "kernelspec": {
      "name": "python3",
      "display_name": "Python 3"
    },
    "language_info": {
      "name": "python"
    }
  },
  "cells": [
    {
      "cell_type": "markdown",
      "source": [
        "# Python OOPs\n",
        "\n",
        "  -- Python OOPs Questions"
      ],
      "metadata": {
        "id": "4UT2Go711-Gx"
      }
    },
    {
      "cell_type": "markdown",
      "source": [
        "1.  What is Object-Oriented Programming (OOP)?"
      ],
      "metadata": {
        "id": "33Q2x3BH2G2q"
      }
    },
    {
      "cell_type": "markdown",
      "source": [
        "  - Object-Oriented Programming (OOP) is a programming paradigm based on the concept of \"objects,\" which can contain data (in the form of fields or attributes) and code (in the form of methods or functions)."
      ],
      "metadata": {
        "id": "wQ3DUYD66orL"
      }
    },
    {
      "cell_type": "markdown",
      "source": [
        "2. What is a class in OOP?"
      ],
      "metadata": {
        "id": "BWdxVdbL2IEE"
      }
    },
    {
      "cell_type": "markdown",
      "source": [
        "  - In Object-Oriented Programming (OOP), a class is a blueprint or template for creating objects. It defines the structure and behavior that the objects created from it (called instances) will have."
      ],
      "metadata": {
        "id": "g5qSW8yf7Lmw"
      }
    },
    {
      "cell_type": "markdown",
      "source": [
        "3. What is an object in OOP?"
      ],
      "metadata": {
        "id": "lbzQWbS-2KIP"
      }
    },
    {
      "cell_type": "markdown",
      "source": [
        "  - The object is an instance of a class. It represents a real-world entity that combines data (attributes) and behavior (methods)."
      ],
      "metadata": {
        "id": "XmyuPYVx8GIz"
      }
    },
    {
      "cell_type": "markdown",
      "source": [
        "4. What is the difference between abstraction and encapsulation?"
      ],
      "metadata": {
        "id": "ZeGuA4k22Lwc"
      }
    },
    {
      "cell_type": "markdown",
      "source": [
        "  - Abstraction means hiding the complex implementation details and showing only the essential features of an object and Encapsulation means bundling the data and the methods that operate on that data into a single unit (a class), and restricting direct access to some of the object's components."
      ],
      "metadata": {
        "id": "9VKDRBs58QDK"
      }
    },
    {
      "cell_type": "markdown",
      "source": [
        "5. What are dunder methods in Python?"
      ],
      "metadata": {
        "id": "waSrlwrc2MOQ"
      }
    },
    {
      "cell_type": "markdown",
      "source": [
        "  - Dunder methods in Python are special methods that start and end with double underscores, like __init__, __str__, or __add__. They are also called magic methods or special methods, and they allow you to customize the behavior of your classes in Python by hooking into Python’s built-in syntax and operations."
      ],
      "metadata": {
        "id": "wyZuJ42B8kyH"
      }
    },
    {
      "cell_type": "markdown",
      "source": [
        "6. Explain the concept of inheritance in OOP."
      ],
      "metadata": {
        "id": "_rzfcbxO2MwI"
      }
    },
    {
      "cell_type": "markdown",
      "source": [
        "  - Inheritance is a core concept in Object-Oriented Programming (OOP) that allows one class (child or subclass) to inherit properties and behaviors (methods and attributes) from another class (parent or superclass). It promotes code reuse, extensibility, and reflects real-world hierarchical relationships."
      ],
      "metadata": {
        "id": "BNjmeuLw804j"
      }
    },
    {
      "cell_type": "markdown",
      "source": [
        "7.  What is polymorphism in OOP?"
      ],
      "metadata": {
        "id": "c1oIjeHA2NZ7"
      }
    },
    {
      "cell_type": "markdown",
      "source": [
        "  - Polymorphism is a core concept in Object-Oriented Programming (OOP) that allows the same interface or method name to behave differently depending on the object or context."
      ],
      "metadata": {
        "id": "YtrlWMNJ88Zb"
      }
    },
    {
      "cell_type": "markdown",
      "source": [
        "8. How is encapsulation achieved in Python?"
      ],
      "metadata": {
        "id": "m6CqjtwY2NvL"
      }
    },
    {
      "cell_type": "markdown",
      "source": [
        "  - Encapsulation in Python is achieved by restricting direct access to an object's internal data and exposing it through methods. This helps protect the internal state and enforce control over how data is accessed or modified."
      ],
      "metadata": {
        "id": "XvBATb9M9GDt"
      }
    },
    {
      "cell_type": "markdown",
      "source": [
        "9. What is a constructor in Python?"
      ],
      "metadata": {
        "id": "68DafhCn2Ow5"
      }
    },
    {
      "cell_type": "markdown",
      "source": [
        "  - In Python, a constructor is a special method used to initialize a newly created object of a class. It is automatically called when an object is instantiated."
      ],
      "metadata": {
        "id": "r8U_opql9OJc"
      }
    },
    {
      "cell_type": "markdown",
      "source": [
        "10. What are class and static methods in Python?"
      ],
      "metadata": {
        "id": "lF7ihxcd2PEX"
      }
    },
    {
      "cell_type": "markdown",
      "source": [
        "  - A class method is bound to the class, not the instance. It can access or modify the class state that applies across all instances and A static method does not take self or cls as its first argument. It behaves like a regular function inside the class's namespace, and does not access instance or class-specific data."
      ],
      "metadata": {
        "id": "s5R6XOd_9fnd"
      }
    },
    {
      "cell_type": "markdown",
      "source": [
        "11.  What is method overloading in Python?"
      ],
      "metadata": {
        "id": "Ij4KVwG22Pa2"
      }
    },
    {
      "cell_type": "markdown",
      "source": [
        "  - Method overloading refers to the ability to define multiple methods with the same name, but with different signatures (different number or types of parameters). It allows a class to handle different use cases or inputs in a single method name."
      ],
      "metadata": {
        "id": "ketuimd29xH1"
      }
    },
    {
      "cell_type": "markdown",
      "source": [
        "12. What is method overriding in OOP?"
      ],
      "metadata": {
        "id": "svYIsU__2S9Z"
      }
    },
    {
      "cell_type": "markdown",
      "source": [
        "  - Method overriding is a feature in OOP where a subclass provides a specific implementation of a method that is already defined in its parent class."
      ],
      "metadata": {
        "id": "GmR1fmK596fo"
      }
    },
    {
      "cell_type": "markdown",
      "source": [
        "13. What is a property decorator in Python?"
      ],
      "metadata": {
        "id": "V-o198z72S53"
      }
    },
    {
      "cell_type": "markdown",
      "source": [
        "  - The property decorator provides a way to define an attribute-like access to methods. This is useful when you want to compute or process an attribute's value on-the-fly but still allow users to interact with it as though it were a simple attribute."
      ],
      "metadata": {
        "id": "LLWeaDdf-JID"
      }
    },
    {
      "cell_type": "markdown",
      "source": [
        "14. Why is polymorphism important in OOP?"
      ],
      "metadata": {
        "id": "9w64ZgUl2S2U"
      }
    },
    {
      "cell_type": "markdown",
      "source": [
        "  - Polymorphism is one of the four core principles of OOP and plays a critical role in creating flexible, scalable, and maintainable code. It allows objects of different classes to be treated as objects of a common base class, but still perform actions that are appropriate for their actual type."
      ],
      "metadata": {
        "id": "OQLAOPaL-WOm"
      }
    },
    {
      "cell_type": "markdown",
      "source": [
        "15. What is an abstract class in Python?"
      ],
      "metadata": {
        "id": "bpyF17MO2Syi"
      }
    },
    {
      "cell_type": "markdown",
      "source": [
        "  - An abstract class in Python is a class that cannot be instantiated directly. It serves as a blueprint for other classes to inherit from and provides a way to enforce that certain methods must be implemented in any subclass."
      ],
      "metadata": {
        "id": "ANsjPfBK-lIb"
      }
    },
    {
      "cell_type": "markdown",
      "source": [
        "16. What are the advantages of OOP?"
      ],
      "metadata": {
        "id": "alt0iO6I2Su6"
      }
    },
    {
      "cell_type": "markdown",
      "source": [
        "  - OOP is a programming paradigm based on the concept of objects, which can contain data in the form of fields (often called attributes) and code in the form of methods (functions). OOP provides a number of benefits that contribute to better design, maintainability, and flexibility of software."
      ],
      "metadata": {
        "id": "jMCY5e6h-1LI"
      }
    },
    {
      "cell_type": "markdown",
      "source": [
        "17. What is the difference between a class variable and an instance variable?"
      ],
      "metadata": {
        "id": "kTTq5mJZ2SrZ"
      }
    },
    {
      "cell_type": "markdown",
      "source": [
        "  - Class Variable Defined Inside the class but outside any instance methods (like __init__) and Instance Variable Defined Inside methods (usually __init__) using self."
      ],
      "metadata": {
        "id": "GlIaZPUH_Nau"
      }
    },
    {
      "cell_type": "markdown",
      "source": [
        "18. What is multiple inheritance in Python?"
      ],
      "metadata": {
        "id": "yVvKmDNu2Snm"
      }
    },
    {
      "cell_type": "markdown",
      "source": [
        "  - Multiple inheritance is a feature in Python where a class can inherit from more than one parent class. This allows a subclass to combine and use methods and attributes from multiple base classes."
      ],
      "metadata": {
        "id": "i1D0aJatO3Hj"
      }
    },
    {
      "cell_type": "markdown",
      "source": [
        "19. Explain the purpose of ‘’__str__’ and ‘__repr__’ ‘ methods in Python."
      ],
      "metadata": {
        "id": "-t2aNma02Sjt"
      }
    },
    {
      "cell_type": "markdown",
      "source": [
        "  - In Python, the __str__ and __repr__ methods are special (or \"magic\") methods used to define how objects are represented as strings. Although they seem similar, they serve different purposes and are used in different contexts.\n",
        "\n",
        "  __str__ Defines the \"informal\" or nicely printable string representation of an object.\n",
        "\n",
        " __repr__ Defines the \"official\" string representation of an object. It should ideally be unambiguous and, if possible, valid Python code that can recreate the object."
      ],
      "metadata": {
        "id": "HyKv8d9NO6WA"
      }
    },
    {
      "cell_type": "markdown",
      "source": [
        "20. What is the significance of the ‘super()’ function in Python?"
      ],
      "metadata": {
        "id": "JaTA2P832Sf8"
      }
    },
    {
      "cell_type": "markdown",
      "source": [
        "  - The super() function in Python is used to call methods from a parent (or superclass) within a class that inherits from it. It's most commonly used in class inheritance, especially when overriding methods in child classes."
      ],
      "metadata": {
        "id": "N_rSODwbPkay"
      }
    },
    {
      "cell_type": "markdown",
      "source": [
        "21. What is the significance of the __del__ method in Python?"
      ],
      "metadata": {
        "id": "S6nweGDD2Scq"
      }
    },
    {
      "cell_type": "markdown",
      "source": [
        "  - The __del__ method in Python is a special method known as a destructor. It is called automatically when an object is about to be destroyed, i.e., when it is garbage collected."
      ],
      "metadata": {
        "id": "L15fSqhaPwYt"
      }
    },
    {
      "cell_type": "markdown",
      "source": [
        "22.  What is the difference between @staticmethod and @classmethod in Python?"
      ],
      "metadata": {
        "id": "t2HdUgsr2SZf"
      }
    },
    {
      "cell_type": "markdown",
      "source": [
        "  - In Python, both @staticmethod and @classmethod are decorators used to define methods inside a class that are not instance methods, but they serve different purposes and behave differently."
      ],
      "metadata": {
        "id": "lGIDg34QP_ng"
      }
    },
    {
      "cell_type": "markdown",
      "source": [
        "23. How does polymorphism work in Python with inheritance?"
      ],
      "metadata": {
        "id": "k8EBJQ2y2SVi"
      }
    },
    {
      "cell_type": "markdown",
      "source": [
        "  - Polymorphism is a fundamental concept in object-oriented programming, and in Python, it works seamlessly with inheritance. It allows objects of different classes to be treated as objects of a common superclass, even if they implement behavior differently."
      ],
      "metadata": {
        "id": "ydR8Dde9QKkB"
      }
    },
    {
      "cell_type": "markdown",
      "source": [
        "24. What is method chaining in Python OOP?"
      ],
      "metadata": {
        "id": "-LxY_7H82SR0"
      }
    },
    {
      "cell_type": "markdown",
      "source": [
        "  - Method chaining in Python refers to calling multiple methods on the same object in a single line, one after another. This is possible when each method returns self (the current object), allowing you to \"chain\" the calls together."
      ],
      "metadata": {
        "id": "7YRSF9PgQQvO"
      }
    },
    {
      "cell_type": "markdown",
      "source": [
        "25. What is the purpose of the __call__ method in Python?"
      ],
      "metadata": {
        "id": "E5yxtT8A2SOd"
      }
    },
    {
      "cell_type": "markdown",
      "source": [
        "  - The __call__ method in Python is a special method that lets an instance of a class behave like a function."
      ],
      "metadata": {
        "id": "9QwvHbaAQTcs"
      }
    },
    {
      "cell_type": "markdown",
      "source": [
        "# Practical Questions"
      ],
      "metadata": {
        "id": "Ntx75giu2SKu"
      }
    },
    {
      "cell_type": "markdown",
      "source": [
        "1. Create a parent class Animal with a method speak() that prints a generic message. Create a child class Dog\n",
        "that overrides the speak() method to print \"Bark!\"."
      ],
      "metadata": {
        "id": "XvApgf0u2SHE"
      }
    },
    {
      "cell_type": "code",
      "source": [
        "class Animal:\n",
        "    def speak(self):\n",
        "        print(\"The animal makes a sound.\")\n",
        "\n",
        "class Dog(Animal):\n",
        "    def speak(self):\n",
        "        print(\"Bark!\")\n",
        "\n",
        "animal = Animal()\n",
        "dog = Dog()\n",
        "\n",
        "animal.speak()\n",
        "dog.speak()\n"
      ],
      "metadata": {
        "colab": {
          "base_uri": "https://localhost:8080/"
        },
        "id": "lY9BeHw6QhiS",
        "outputId": "2924dd9a-a7b8-4c8a-a6c1-7c72f23b2b9a"
      },
      "execution_count": 1,
      "outputs": [
        {
          "output_type": "stream",
          "name": "stdout",
          "text": [
            "The animal makes a sound.\n",
            "Bark!\n"
          ]
        }
      ]
    },
    {
      "cell_type": "markdown",
      "source": [
        "2. Write a program to create an abstract class Shape with a method area(). Derive classes Circle and Rectangle\n",
        "from it and implement the area() method in both."
      ],
      "metadata": {
        "id": "y8BAii6O2SD3"
      }
    },
    {
      "cell_type": "code",
      "source": [
        "from abc import ABC, abstractmethod\n",
        "import math\n",
        "\n",
        "class Shape(ABC):\n",
        "    @abstractmethod\n",
        "    def area(self):\n",
        "        pass\n",
        "\n",
        "class Circle(Shape):\n",
        "    def __init__(self, radius):\n",
        "        self.radius = radius\n",
        "\n",
        "    def area(self):\n",
        "        return math.pi * self.radius ** 2\n",
        "\n",
        "class Rectangle(Shape):\n",
        "    def __init__(self, width, height):\n",
        "        self.width = width\n",
        "        self.height = height\n",
        "\n",
        "    def area(self):\n",
        "        return self.width * self.height\n",
        "\n",
        "\n",
        "circle = Circle(5)\n",
        "rectangle = Rectangle(4, 6)\n",
        "\n",
        "print(f\"Area of the circle: {circle.area()}\")\n",
        "print(f\"Area of the rectangle: {rectangle.area()}\")\n"
      ],
      "metadata": {
        "colab": {
          "base_uri": "https://localhost:8080/"
        },
        "id": "6LgsjokkQ1VY",
        "outputId": "d29796a0-010e-4499-c6d7-b0980c2efd94"
      },
      "execution_count": 2,
      "outputs": [
        {
          "output_type": "stream",
          "name": "stdout",
          "text": [
            "Area of the circle: 78.53981633974483\n",
            "Area of the rectangle: 24\n"
          ]
        }
      ]
    },
    {
      "cell_type": "markdown",
      "source": [
        "3.  Implement a multi-level inheritance scenario where a class Vehicle has an attribute type. Derive a class Car\n",
        "and further derive a class ElectricCar that adds a battery attribute."
      ],
      "metadata": {
        "id": "V3rClS3r2SAN"
      }
    },
    {
      "cell_type": "code",
      "source": [
        "class Vehicle:\n",
        "    def __init__(self, type):\n",
        "        self.type = type\n",
        "\n",
        "    def display_type(self):\n",
        "        print(f\"Vehicle type: {self.type}\")\n",
        "\n",
        "class Car(Vehicle):\n",
        "    def __init__(self, type, make, model):\n",
        "        super().__init__(type)\n",
        "        self.make = make\n",
        "        self.model = model\n",
        "\n",
        "    def display_info(self):\n",
        "        print(f\"Car make: {self.make}, Model: {self.model}\")\n",
        "\n",
        "class ElectricCar(Car):\n",
        "    def __init__(self, type, make, model, battery):\n",
        "        super().__init__(type, make, model)\n",
        "        self.battery = battery\n",
        "\n",
        "    def display_battery(self):\n",
        "        print(f\"Battery capacity: {self.battery} kWh\")\n",
        "\n",
        "vehicle = Vehicle(\"General Vehicle\")\n",
        "vehicle.display_type()\n",
        "\n",
        "car = Car(\"Car\", \"Tata\", \"Nexon\")\n",
        "car.display_type()\n",
        "car.display_info()\n",
        "\n",
        "electric_car = ElectricCar(\"Electric Car\", \"Tata\", \"Model S\", 100)\n",
        "electric_car.display_type()\n",
        "electric_car.display_info()\n",
        "electric_car.display_battery()"
      ],
      "metadata": {
        "colab": {
          "base_uri": "https://localhost:8080/"
        },
        "id": "7JNxfmiBRTW_",
        "outputId": "4342d509-4593-4622-819d-383fef00d4d0"
      },
      "execution_count": 5,
      "outputs": [
        {
          "output_type": "stream",
          "name": "stdout",
          "text": [
            "Vehicle type: General Vehicle\n",
            "Vehicle type: Car\n",
            "Car make: Tata, Model: Nexon\n",
            "Vehicle type: Electric Car\n",
            "Car make: Tata, Model: Model S\n",
            "Battery capacity: 100 kWh\n"
          ]
        }
      ]
    },
    {
      "cell_type": "markdown",
      "source": [
        "4. Demonstrate polymorphism by creating a base class Bird with a method fly(). Create two derived classes\n",
        "Sparrow and Penguin that override the fly() method."
      ],
      "metadata": {
        "id": "pIvihWTe2R8p"
      }
    },
    {
      "cell_type": "code",
      "source": [
        "class Bird:\n",
        "    def fly(self):\n",
        "        print(\"This bird can fly.\")\n",
        "\n",
        "class Sparrow(Bird):\n",
        "    def fly(self):\n",
        "        print(\"Sparrow flies at a high speed.\")\n",
        "\n",
        "class Penguin(Bird):\n",
        "    def fly(self):\n",
        "        print(\"Penguins can't fly, but they are great swimmers.\")\n",
        "\n",
        "def make_bird_fly(bird):\n",
        "    bird.fly()\n",
        "\n",
        "sparrow = Sparrow()\n",
        "penguin = Penguin()\n",
        "\n",
        "make_bird_fly(sparrow)\n",
        "make_bird_fly(penguin)"
      ],
      "metadata": {
        "colab": {
          "base_uri": "https://localhost:8080/"
        },
        "id": "frlZm_fnSLYT",
        "outputId": "ab4f72c8-3fbf-44fa-8ce5-e1320cb7d534"
      },
      "execution_count": 6,
      "outputs": [
        {
          "output_type": "stream",
          "name": "stdout",
          "text": [
            "Sparrow flies at a high speed.\n",
            "Penguins can't fly, but they are great swimmers.\n"
          ]
        }
      ]
    },
    {
      "cell_type": "markdown",
      "source": [
        "5. Write a program to demonstrate encapsulation by creating a class BankAccount with private attributes\n",
        "balance and methods to deposit, withdraw, and check balance."
      ],
      "metadata": {
        "id": "jhRUoUp22Ry4"
      }
    },
    {
      "cell_type": "code",
      "source": [
        "class BankAccount:\n",
        "    def __init__(self, initial_balance=0):\n",
        "        self.__balance = initial_balance\n",
        "\n",
        "    def deposit(self, amount):\n",
        "        if amount > 0:\n",
        "            self.__balance += amount\n",
        "            print(f\"Deposited {amount}. Current balance: {self.__balance}\")\n",
        "        else:\n",
        "            print(\"Deposit amount must be positive.\")\n",
        "\n",
        "    def withdraw(self, amount):\n",
        "        if 0 < amount <= self.__balance:\n",
        "            self.__balance -= amount\n",
        "            print(f\"Withdrew {amount}. Current balance: {self.__balance}\")\n",
        "        else:\n",
        "            print(\"Invalid withdrawal amount or insufficient balance.\")\n",
        "\n",
        "    def get_balance(self):\n",
        "        return self.__balance\n",
        "\n",
        "account = BankAccount(1000)\n",
        "print(\"Initial balance:\", account.get_balance())\n",
        "\n",
        "account.deposit(500)\n",
        "account.withdraw(200)\n",
        "account.withdraw(1500)\n",
        "\n",
        "print(\"Final balance:\", account.get_balance())"
      ],
      "metadata": {
        "colab": {
          "base_uri": "https://localhost:8080/"
        },
        "id": "zdERz192SiqP",
        "outputId": "f271d8c4-722d-44ad-af0b-6c02879c3793"
      },
      "execution_count": 7,
      "outputs": [
        {
          "output_type": "stream",
          "name": "stdout",
          "text": [
            "Initial balance: 1000\n",
            "Deposited 500. Current balance: 1500\n",
            "Withdrew 200. Current balance: 1300\n",
            "Invalid withdrawal amount or insufficient balance.\n",
            "Final balance: 1300\n"
          ]
        }
      ]
    },
    {
      "cell_type": "markdown",
      "source": [
        "6.  Demonstrate runtime polymorphism using a method play() in a base class Instrument. Derive classes Guitar\n",
        "and Piano that implement their own version of play()."
      ],
      "metadata": {
        "id": "vIVSxGC_2Rhy"
      }
    },
    {
      "cell_type": "code",
      "source": [
        "class Instrument:\n",
        "    def play(self):\n",
        "        print(\"This instrument makes sound.\")\n",
        "\n",
        "class Guitar(Instrument):\n",
        "    def play(self):\n",
        "        print(\"The guitar is playing strumming sounds.\")\n",
        "\n",
        "class Piano(Instrument):\n",
        "    def play(self):\n",
        "        print(\"The piano is playing melodic sounds.\")\n",
        "\n",
        "def perform_play(instrument):\n",
        "    instrument.play()\n",
        "\n",
        "guitar = Guitar()\n",
        "piano = Piano()\n",
        "\n",
        "perform_play(guitar)\n",
        "perform_play(piano)"
      ],
      "metadata": {
        "colab": {
          "base_uri": "https://localhost:8080/"
        },
        "id": "g7guwY64S6YQ",
        "outputId": "68d367dd-872b-4053-93a8-b440a320d6d9"
      },
      "execution_count": 8,
      "outputs": [
        {
          "output_type": "stream",
          "name": "stdout",
          "text": [
            "The guitar is playing strumming sounds.\n",
            "The piano is playing melodic sounds.\n"
          ]
        }
      ]
    },
    {
      "cell_type": "markdown",
      "source": [
        "7. Create a class MathOperations with a class method add_numbers() to add two numbers and a static\n",
        "method subtract_numbers() to subtract two numbers."
      ],
      "metadata": {
        "id": "lEECW0Vm34Zd"
      }
    },
    {
      "cell_type": "code",
      "source": [
        "class MathOperations:\n",
        "\n",
        "    @classmethod\n",
        "    def add_numbers(cls, a, b):\n",
        "        return a + b\n",
        "\n",
        "    @staticmethod\n",
        "    def subtract_numbers(a, b):\n",
        "        return a - b\n",
        "\n",
        "sum_result = MathOperations.add_numbers(10, 5)\n",
        "print(f\"Sum: {sum_result}\")\n",
        "\n",
        "difference_result = MathOperations.subtract_numbers(10, 5)\n",
        "print(f\"Difference: {difference_result}\")"
      ],
      "metadata": {
        "colab": {
          "base_uri": "https://localhost:8080/"
        },
        "id": "YW4r-oaGTJ5J",
        "outputId": "6a22ad8b-acb2-4a46-aa70-b35969b10b12"
      },
      "execution_count": 9,
      "outputs": [
        {
          "output_type": "stream",
          "name": "stdout",
          "text": [
            "Sum: 15\n",
            "Difference: 5\n"
          ]
        }
      ]
    },
    {
      "cell_type": "markdown",
      "source": [
        "8.  Implement a class Person with a class method to count the total number of persons created."
      ],
      "metadata": {
        "id": "H8-eSpu_35PI"
      }
    },
    {
      "cell_type": "code",
      "source": [
        "class Person:\n",
        "    total_persons = 0\n",
        "\n",
        "    def __init__(self, name, age):\n",
        "        self.name = name\n",
        "        self.age = age\n",
        "        Person.total_persons += 1\n",
        "\n",
        "    @classmethod\n",
        "    def count_persons(cls):\n",
        "        return cls.total_persons\n",
        "\n",
        "person1 = Person(\"Biraj\", 30)\n",
        "person2 = Person(\"Ramu\", 25)\n",
        "person3 = Person(\"Kalu\", 35)\n",
        "\n",
        "print(f\"Total persons created: {Person.count_persons()}\")"
      ],
      "metadata": {
        "colab": {
          "base_uri": "https://localhost:8080/"
        },
        "id": "l-sMRFzWTaOA",
        "outputId": "d837136d-b716-4db0-c367-72677e18dda5"
      },
      "execution_count": 11,
      "outputs": [
        {
          "output_type": "stream",
          "name": "stdout",
          "text": [
            "Total persons created: 3\n"
          ]
        }
      ]
    },
    {
      "cell_type": "markdown",
      "source": [
        "9. Write a class Fraction with attributes numerator and denominator. Override the str method to display the\n",
        "fraction as \"numerator/denominator\".\n"
      ],
      "metadata": {
        "id": "bNHCF8dh36fu"
      }
    },
    {
      "cell_type": "code",
      "source": [
        "class Fraction:\n",
        "    def __init__(self, numerator, denominator):\n",
        "        self.numerator = numerator\n",
        "        self.denominator = denominator\n",
        "\n",
        "    def __str__(self):\n",
        "        return f\"{self.numerator}/{self.denominator}\"\n",
        "\n",
        "fraction1 = Fraction(3, 4)\n",
        "fraction2 = Fraction(5, 6)\n",
        "\n",
        "print(fraction1)\n",
        "print(fraction2)"
      ],
      "metadata": {
        "colab": {
          "base_uri": "https://localhost:8080/"
        },
        "id": "vEHtORKqTx-E",
        "outputId": "0c386c94-b652-4d3a-9017-0629fbca8752"
      },
      "execution_count": 12,
      "outputs": [
        {
          "output_type": "stream",
          "name": "stdout",
          "text": [
            "3/4\n",
            "5/6\n"
          ]
        }
      ]
    },
    {
      "cell_type": "markdown",
      "source": [
        "10.  Demonstrate operator overloading by creating a class Vector and overriding the add method to add two\n",
        "vectors."
      ],
      "metadata": {
        "id": "P-lcYLZe36zR"
      }
    },
    {
      "cell_type": "code",
      "source": [
        "class Vector:\n",
        "    def __init__(self, x, y):\n",
        "        self.x = x\n",
        "        self.y = y\n",
        "\n",
        "    def __add__(self, other):\n",
        "        if isinstance(other, Vector):\n",
        "            return Vector(self.x + other.x, self.y + other.y)\n",
        "        else:\n",
        "            raise TypeError(\"Operands must be of type 'Vector'\")\n",
        "\n",
        "    def __str__(self):\n",
        "        return f\"({self.x}, {self.y})\"\n",
        "\n",
        "vector1 = Vector(2, 3)\n",
        "vector2 = Vector(4, 5)\n",
        "\n",
        "vector3 = vector1 + vector2\n",
        "\n",
        "print(f\"vector1 + vector2= {vector3}\")"
      ],
      "metadata": {
        "colab": {
          "base_uri": "https://localhost:8080/"
        },
        "id": "iG7evHCyT_51",
        "outputId": "32ec9956-f817-4bb6-eeff-01d5179fde1e"
      },
      "execution_count": 16,
      "outputs": [
        {
          "output_type": "stream",
          "name": "stdout",
          "text": [
            "vector1 + vector2= (6, 8)\n"
          ]
        }
      ]
    },
    {
      "cell_type": "markdown",
      "source": [
        "11.  Create a class Person with attributes name and age. Add a method greet() that prints \"Hello, my name is\n",
        "{name} and I am {age} years old.\""
      ],
      "metadata": {
        "id": "-0EaLGRH4PwG"
      }
    },
    {
      "cell_type": "code",
      "source": [
        "class Person:\n",
        "    def __init__(self, name, age):\n",
        "        self.name = name\n",
        "        self.age = age\n",
        "\n",
        "    def greet(self):\n",
        "        print(f\"Hello, my name is {self.name} and I am {self.age} years old.\")\n",
        "\n",
        "person1 = Person(\"Ramu\", 30)\n",
        "person2 = Person(\"Kalu\", 25)\n",
        "\n",
        "person1.greet()\n",
        "person2.greet()"
      ],
      "metadata": {
        "colab": {
          "base_uri": "https://localhost:8080/"
        },
        "id": "KTZF5pjYUdsO",
        "outputId": "d49201d1-c333-49b7-bee5-3da4b6d2235a"
      },
      "execution_count": 17,
      "outputs": [
        {
          "output_type": "stream",
          "name": "stdout",
          "text": [
            "Hello, my name is Ramu and I am 30 years old.\n",
            "Hello, my name is Kalu and I am 25 years old.\n"
          ]
        }
      ]
    },
    {
      "cell_type": "markdown",
      "source": [
        "12.  Implement a class Student with attributes name and grades. Create a method average_grade() to compute\n",
        "the average of the grades."
      ],
      "metadata": {
        "id": "nfZJP_Qh4Prj"
      }
    },
    {
      "cell_type": "code",
      "source": [
        "class Student:\n",
        "    def __init__(self, name, grades):\n",
        "        self.name = name\n",
        "        self.grades = grades\n",
        "\n",
        "    def average_grade(self):\n",
        "        if len(self.grades) == 0:\n",
        "            return 0\n",
        "        return sum(self.grades) / len(self.grades)\n",
        "\n",
        "student1 = Student(\"Ramu\", [85, 90, 88, 92])\n",
        "student2 = Student(\"Kalu\", [78, 82, 80, 85, 88])\n",
        "\n",
        "print(f\"{student1.name}'s average grade: {student1.average_grade()}\")\n",
        "print(f\"{student2.name}'s average grade: {student2.average_grade()}\")"
      ],
      "metadata": {
        "colab": {
          "base_uri": "https://localhost:8080/"
        },
        "id": "yIjXRJ2gUySw",
        "outputId": "b30b863f-2e8f-45b5-b90c-317d7931e078"
      },
      "execution_count": 19,
      "outputs": [
        {
          "output_type": "stream",
          "name": "stdout",
          "text": [
            "Ramu's average grade: 88.75\n",
            "Kalu's average grade: 82.6\n"
          ]
        }
      ]
    },
    {
      "cell_type": "markdown",
      "source": [
        "13. Create a class Rectangle with methods set_dimensions() to set the dimensions and area() to calculate the\n",
        "area."
      ],
      "metadata": {
        "id": "5yaZ80RV4Pm1"
      }
    },
    {
      "cell_type": "code",
      "source": [
        "class Rectangle:\n",
        "    def __init__(self):\n",
        "        self.length = 0\n",
        "        self.width = 0\n",
        "\n",
        "    def set_dimensions(self, length, width):\n",
        "        self.length = length\n",
        "        self.width = width\n",
        "\n",
        "    def area(self):\n",
        "        return self.length * self.width\n",
        "\n",
        "rectangle1 = Rectangle()\n",
        "rectangle1.set_dimensions(5, 10)\n",
        "\n",
        "print(f\"Area of rectangle1: {rectangle1.area()}\")\n",
        "\n",
        "rectangle2 = Rectangle()\n",
        "rectangle2.set_dimensions(7, 3)\n",
        "\n",
        "print(f\"Area of rectangle2: {rectangle2.area()}\")"
      ],
      "metadata": {
        "colab": {
          "base_uri": "https://localhost:8080/"
        },
        "id": "ek3AmLSQVPpl",
        "outputId": "7ea30ccb-b3f6-4fb3-d938-2d4962ccf6f0"
      },
      "execution_count": 20,
      "outputs": [
        {
          "output_type": "stream",
          "name": "stdout",
          "text": [
            "Area of rectangle1: 50\n",
            "Area of rectangle2: 21\n"
          ]
        }
      ]
    },
    {
      "cell_type": "markdown",
      "source": [
        "14. Create a class Employee with a method calculate_salary() that computes the salary based on hours worked\n",
        "and hourly rate. Create a derived class Manager that adds a bonus to the salary."
      ],
      "metadata": {
        "id": "TDHP3RVx4PYG"
      }
    },
    {
      "cell_type": "code",
      "source": [
        "class Employee:\n",
        "    def __init__(self, name, hours_worked, hourly_rate):\n",
        "        self.name = name\n",
        "        self.hours_worked = hours_worked\n",
        "        self.hourly_rate = hourly_rate\n",
        "\n",
        "    def calculate_salary(self):\n",
        "        return self.hours_worked * self.hourly_rate\n",
        "\n",
        "class Manager(Employee):\n",
        "    def __init__(self, name, hours_worked, hourly_rate, bonus):\n",
        "        super().__init__(name, hours_worked, hourly_rate)\n",
        "        self.bonus = bonus\n",
        "\n",
        "    def calculate_salary(self):\n",
        "        base_salary = super().calculate_salary()\n",
        "        return base_salary + self.bonus\n",
        "\n",
        "employee = Employee(\"Ramu\", 40, 25)\n",
        "manager = Manager(\"Kalu\", 40, 30, 500)\n",
        "\n",
        "print(f\"{employee.name}'s salary: ${employee.calculate_salary()}\")\n",
        "print(f\"{manager.name}'s salary: ${manager.calculate_salary()}\")"
      ],
      "metadata": {
        "colab": {
          "base_uri": "https://localhost:8080/"
        },
        "id": "TQ2F7qvhVgU3",
        "outputId": "35b51507-4cb7-4950-b4a5-5d15f42172fd"
      },
      "execution_count": 22,
      "outputs": [
        {
          "output_type": "stream",
          "name": "stdout",
          "text": [
            "Ramu's salary: $1000\n",
            "Kalu's salary: $1700\n"
          ]
        }
      ]
    },
    {
      "cell_type": "markdown",
      "source": [
        "15.  Create a class Product with attributes name, price, and quantity. Implement a method total_price() that\n",
        "calculates the total price of the product."
      ],
      "metadata": {
        "id": "28KXUBgr6aNE"
      }
    },
    {
      "cell_type": "code",
      "source": [
        "class Product:\n",
        "    def __init__(self, name, price, quantity):\n",
        "        self.name = name\n",
        "        self.price = price\n",
        "        self.quantity = quantity\n",
        "\n",
        "    def total_price(self):\n",
        "        return self.price * self.quantity\n",
        "\n",
        "product1 = Product(\"Laptop\", 1000, 3)\n",
        "product2 = Product(\"Smartphone\", 500, 5)\n",
        "\n",
        "print(f\"Total price for {product1.name}: ${product1.total_price()}\")\n",
        "print(f\"Total price for {product2.name}: ${product2.total_price()}\")"
      ],
      "metadata": {
        "colab": {
          "base_uri": "https://localhost:8080/"
        },
        "id": "YdptNn14V9Ik",
        "outputId": "1944b30d-d4e4-4433-f76e-a73282da8c16"
      },
      "execution_count": 23,
      "outputs": [
        {
          "output_type": "stream",
          "name": "stdout",
          "text": [
            "Total price for Laptop: $3000\n",
            "Total price for Smartphone: $2500\n"
          ]
        }
      ]
    },
    {
      "cell_type": "markdown",
      "source": [
        "16. Create a class Animal with an abstract method sound(). Create two derived classes Cow and Sheep that\n",
        "implement the sound() method."
      ],
      "metadata": {
        "id": "s0zGsTk06aGJ"
      }
    },
    {
      "cell_type": "code",
      "source": [
        "from abc import ABC, abstractmethod\n",
        "\n",
        "class Animal(ABC):\n",
        "    @abstractmethod\n",
        "    def sound(self):\n",
        "        pass\n",
        "\n",
        "class Cow(Animal):\n",
        "    def sound(self):\n",
        "        return \"Moo\"\n",
        "\n",
        "class Sheep(Animal):\n",
        "    def sound(self):\n",
        "        return \"Baa\"\n",
        "\n",
        "cow = Cow()\n",
        "sheep = Sheep()\n",
        "\n",
        "print(f\"The cow says: {cow.sound()}\")\n",
        "print(f\"The sheep says: {sheep.sound()}\")"
      ],
      "metadata": {
        "colab": {
          "base_uri": "https://localhost:8080/"
        },
        "id": "Yd4U6I1IWL6K",
        "outputId": "7c914e31-f1f9-44cd-e5f2-535aaba71101"
      },
      "execution_count": 24,
      "outputs": [
        {
          "output_type": "stream",
          "name": "stdout",
          "text": [
            "The cow says: Moo\n",
            "The sheep says: Baa\n"
          ]
        }
      ]
    },
    {
      "cell_type": "markdown",
      "source": [
        "17. Create a class Book with attributes title, author, and year_published. Add a method get_book_info() that\n",
        "returns a formatted string with the book's details."
      ],
      "metadata": {
        "id": "6umgqMGq6aBO"
      }
    },
    {
      "cell_type": "code",
      "source": [
        "class Book:\n",
        "    def __init__(self, title, author, year_published):\n",
        "        self.title = title\n",
        "        self.author = author\n",
        "        self.year_published = year_published\n",
        "\n",
        "    def get_book_info(self):\n",
        "        return f\"Title: {self.title}\\nAuthor: {self.author}\\nYear Published: {self.year_published}\"\n",
        "\n",
        "book1 = Book(\"XYZ\", \"ABC\", 2000)\n",
        "book2 = Book(\"MNO\", \"PQR\", 2005)\n",
        "\n",
        "print(book1.get_book_info())\n",
        "print(\"----\")\n",
        "print(book2.get_book_info())"
      ],
      "metadata": {
        "colab": {
          "base_uri": "https://localhost:8080/"
        },
        "id": "V6sEfVeDWlNQ",
        "outputId": "f2127bf6-6aa0-4067-9c86-7bb0972623f6"
      },
      "execution_count": 26,
      "outputs": [
        {
          "output_type": "stream",
          "name": "stdout",
          "text": [
            "Title: XYZ\n",
            "Author: ABC\n",
            "Year Published: 2000\n",
            "----\n",
            "Title: MNO\n",
            "Author: PQR\n",
            "Year Published: 2005\n"
          ]
        }
      ]
    },
    {
      "cell_type": "markdown",
      "source": [
        "18. Create a class House with attributes address and price. Create a derived class Mansion that adds an\n",
        "attribute number_of_rooms."
      ],
      "metadata": {
        "id": "QtPa8Ndk6ZyD"
      }
    },
    {
      "cell_type": "code",
      "source": [
        "class House:\n",
        "    def __init__(self, address, price):\n",
        "        self.address = address\n",
        "        self.price = price\n",
        "\n",
        "    def get_house_info(self):\n",
        "        return f\"Address: {self.address}\\nPrice: ${self.price}\"\n",
        "\n",
        "class Mansion(House):\n",
        "    def __init__(self, address, price, number_of_rooms):\n",
        "        super().__init__(address, price)\n",
        "        self.number_of_rooms = number_of_rooms\n",
        "\n",
        "    def get_mansion_info(self):\n",
        "        house_info = super().get_house_info()\n",
        "        return f\"{house_info}\\nNumber of Rooms: {self.number_of_rooms}\"\n",
        "\n",
        "house = House(\"123 Guwahati\", 200000)\n",
        "mansion = Mansion(\"456 Banglore\", 5000000, 20)\n",
        "\n",
        "print(\"House Info:\")\n",
        "print(house.get_house_info())\n",
        "\n",
        "print(\"\\nMansion Info:\")\n",
        "print(mansion.get_mansion_info())"
      ],
      "metadata": {
        "colab": {
          "base_uri": "https://localhost:8080/"
        },
        "id": "2KxN2OAX4O4M",
        "outputId": "dcf3043b-a268-4225-af36-8b104f3f8181"
      },
      "execution_count": 31,
      "outputs": [
        {
          "output_type": "stream",
          "name": "stdout",
          "text": [
            "House Info:\n",
            "Address: 123 Guwahati\n",
            "Price: $200000\n",
            "\n",
            "Mansion Info:\n",
            "Address: 456 Banglore\n",
            "Price: $5000000\n",
            "Number of Rooms: 20\n"
          ]
        }
      ]
    }
  ]
}